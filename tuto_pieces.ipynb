{
 "cells": [
  {
   "cell_type": "markdown",
   "metadata": {},
   "source": [
    "# Ajout de pièces\n",
    "On commence par créer un écu comme vu dans le tuto précédent. On peut bien sûr ajouter un meuble mais il risque de ne pas être bien visible."
   ]
  },
  {
   "cell_type": "code",
   "execution_count": 1,
   "metadata": {},
   "outputs": [],
   "source": [
    "from ecu import *\n",
    "monblase = Ecu(forme = \"moderne\", email=[\"gueules\"])"
   ]
  },
  {
   "cell_type": "markdown",
   "metadata": {},
   "source": [
    "## Ajout de deux pièces\n",
    "Les pièces sont des éléments décoratifs qui viennent se superposer sur un blason.\n",
    "\n",
    "La liste des pièces est décrire [ici](presentation_pieces.pdf).\n",
    "\n",
    "- La **bande** est une bande qui traverse le blason du côté en haut à gauche au côté en bas à droite.\n",
    "\n",
    "- Le **chef** est une bande horizontale qui se positionne en haut du blason. On peut décider de sa couleur.\n",
    "\n",
    "Les pièces doivent être introduites de l'arrière plan vers l'avant."
   ]
  },
  {
   "cell_type": "code",
   "execution_count": 2,
   "metadata": {},
   "outputs": [],
   "source": [
    "monblase.piece(\n",
    "    nom = \"bande\",\n",
    "    email = [\"sinople\"])\n",
    "\n",
    "monblase.piece(\n",
    "    nom = \"chef\",\n",
    "    email = [\"azur\"])"
   ]
  },
  {
   "cell_type": "markdown",
   "metadata": {},
   "source": [
    "## Ajout de meubles\n",
    "Des meubles peuvent être ajoutés sur les pièces. On peut répéter plusieurs fois le même meuble.\n",
    "\n",
    "**Attention** pour le moment, cette fonctionnalité ne fonctionne qu'avec le chef."
   ]
  },
  {
   "cell_type": "code",
   "execution_count": 3,
   "metadata": {},
   "outputs": [],
   "source": [
    "monblase.meuble_piece(\n",
    "    nom = \"fleur de lys\",\n",
    "    emaux = [\"argent\"],\n",
    "    nombre = 5\n",
    ")"
   ]
  },
  {
   "cell_type": "markdown",
   "metadata": {},
   "source": [
    "## Création du blason\n",
    "Comme précédemment on dessine et enregistre le blason en choisissant son nom."
   ]
  },
  {
   "cell_type": "code",
   "execution_count": 6,
   "metadata": {},
   "outputs": [
    {
     "data": {
      "image/png": "[encoded data removed]",
      "text/plain": [
       "<Figure size 432x288 with 1 Axes>"
      ]
     },
     "metadata": {
      "needs_background": "light"
     },
     "output_type": "display_data"
    }
   ],
   "source": [
    "monblase.dessine(fichier=\"tuto_blason_pieces\")"
   ]
  },
  {
   "cell_type": "code",
   "execution_count": null,
   "metadata": {},
   "outputs": [],
   "source": []
  }
 ],
 "metadata": {
  "kernelspec": {
   "display_name": "Python 3",
   "language": "python",
   "name": "python3"
  },
  "language_info": {
   "codemirror_mode": {
    "name": "ipython",
    "version": 3
   },
   "file_extension": ".py",
   "mimetype": "text/x-python",
   "name": "python",
   "nbconvert_exporter": "python",
   "pygments_lexer": "ipython3",
   "version": "3.6.8"
  }
 },
 "nbformat": 4,
 "nbformat_minor": 2
}
