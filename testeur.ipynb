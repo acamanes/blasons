# Comment construire rapidement son blason
## Importer les modules nécessaires


## Choisir son ecu


## Choisir sa partition

## Pour chaque partition, choisir sa pièce


## Choisir son meuble

## Choisir les meubles sur la pièce

